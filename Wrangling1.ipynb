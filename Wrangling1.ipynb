{
 "cells": [
  {
   "cell_type": "code",
   "execution_count": null,
   "id": "1936dbcf",
   "metadata": {},
   "outputs": [],
   "source": [
    "# PRACTICAL 1\n",
    "\n",
    "import pandas as pd # type: ignore\n",
    "df = pd.read_csv(\"C:/Users/HP/Downloads/MOCK_DATA.csv\")\n",
    "df[\"marks\"].describe()\n",
    "df[\"marks\"] = df[\"marks\"].fillna(df[\"marks\"].mean())\n",
    "df[\"marks\"].isnull()\n",
    "df[\"first_name\"].dtype\n",
    "df[\"first_name\"].shape"
   ]
  }
 ],
 "metadata": {
  "language_info": {
   "name": "python"
  }
 },
 "nbformat": 4,
 "nbformat_minor": 5
}
